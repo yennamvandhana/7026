{
  "nbformat": 4,
  "nbformat_minor": 0,
  "metadata": {
    "colab": {
      "name": "assignment 1",
      "provenance": [],
      "collapsed_sections": [],
      "authorship_tag": "ABX9TyNJbFDINIELBM4HxywnCygT",
      "include_colab_link": true
    },
    "kernelspec": {
      "name": "python3",
      "display_name": "Python 3"
    }
  },
  "cells": [
    {
      "cell_type": "markdown",
      "metadata": {
        "id": "view-in-github",
        "colab_type": "text"
      },
      "source": [
        "<a href=\"https://colab.research.google.com/github/yennamvandhana/7026/blob/master/assignment_1.ipynb\" target=\"_parent\"><img src=\"https://colab.research.google.com/assets/colab-badge.svg\" alt=\"Open In Colab\"/></a>"
      ]
    },
    {
      "cell_type": "code",
      "metadata": {
        "id": "uF_nBHsfLcS1",
        "colab_type": "code",
        "colab": {
          "base_uri": "https://localhost:8080/",
          "height": 139
        },
        "outputId": "5304d0b4-cd20-4aed-f3c3-179c1ce25c16"
      },
      "source": [
        "#multi\n",
        "a=3\n",
        "b=2\n",
        "print(a+b)\n",
        "print(a-b)\n",
        "print(a*b)\n",
        "print(a**b)\n",
        "print(a/b)\n",
        "print(a//b)\n",
        "print(a%b)"
      ],
      "execution_count": null,
      "outputs": [
        {
          "output_type": "stream",
          "text": [
            "5\n",
            "1\n",
            "6\n",
            "9\n",
            "1.5\n",
            "1\n",
            "1\n"
          ],
          "name": "stdout"
        }
      ]
    },
    {
      "cell_type": "code",
      "metadata": {
        "id": "XJR6xujDMOvJ",
        "colab_type": "code",
        "colab": {
          "base_uri": "https://localhost:8080/",
          "height": 35
        },
        "outputId": "68f8010a-4063-4aa5-da9a-813793e9dfd6"
      },
      "source": [
        "#pyton program to calculate simple interst\n",
        "p=10000\n",
        "r=5\n",
        "t=5\n",
        "si=(p*t*r)/100\n",
        "print(si)"
      ],
      "execution_count": null,
      "outputs": [
        {
          "output_type": "stream",
          "text": [
            "2500.0\n"
          ],
          "name": "stdout"
        }
      ]
    },
    {
      "cell_type": "code",
      "metadata": {
        "id": "fNoWCsCkNopL",
        "colab_type": "code",
        "colab": {
          "base_uri": "https://localhost:8080/",
          "height": 52
        },
        "outputId": "ccc04f5c-9c1d-4fc2-95ca-e6816d849c78"
      },
      "source": [
        "#python program to find the area of circle\n",
        "PI=3.14\n",
        "r=float(input('enter the radius of the circle:'))\n",
        "area=PI*r*r\n",
        "print(\"Area of the circle is:%.2f\"%area)\n"
      ],
      "execution_count": null,
      "outputs": [
        {
          "output_type": "stream",
          "text": [
            "enter the radius of the circle:4\n",
            "Area of the circle is:50.24\n"
          ],
          "name": "stdout"
        }
      ]
    },
    {
      "cell_type": "code",
      "metadata": {
        "id": "gWyhYbjhXt8P",
        "colab_type": "code",
        "colab": {}
      },
      "source": [
        ""
      ],
      "execution_count": null,
      "outputs": []
    },
    {
      "cell_type": "code",
      "metadata": {
        "id": "bA4QwbVYShR3",
        "colab_type": "code",
        "colab": {
          "base_uri": "https://localhost:8080/",
          "height": 69
        },
        "outputId": "ddd31add-04ef-4998-86a8-2bb4eee7cf52"
      },
      "source": [
        "#python program to fing the area of rectangle\n",
        "a=input(\"enter the value of a\")\n",
        "b=input(\"enter the value of b\")\n",
        "c=float(a)*float(b)\n",
        "print(c)"
      ],
      "execution_count": null,
      "outputs": [
        {
          "output_type": "stream",
          "text": [
            "enter the value of a2\n",
            "enter the value of b4\n",
            "8.0\n"
          ],
          "name": "stdout"
        }
      ]
    },
    {
      "cell_type": "code",
      "metadata": {
        "id": "bg0GysfiT2Bz",
        "colab_type": "code",
        "colab": {
          "base_uri": "https://localhost:8080/",
          "height": 52
        },
        "outputId": "cf223aaf-905b-4824-cd47-ec08099b0a56"
      },
      "source": [
        "#python program to find celsius to fahrenheit\n",
        "celsius=input(\"enter the value of celsius\")\n",
        "fahrenheit=(float(celsius)*1.8)+32\n",
        "print(fahrenheit)"
      ],
      "execution_count": null,
      "outputs": [
        {
          "output_type": "stream",
          "text": [
            "enter the value of celsius2\n",
            "35.6\n"
          ],
          "name": "stdout"
        }
      ]
    },
    {
      "cell_type": "code",
      "metadata": {
        "id": "1mrOt6m0UvvH",
        "colab_type": "code",
        "colab": {
          "base_uri": "https://localhost:8080/",
          "height": 52
        },
        "outputId": "fd895601-61b0-46a5-e370-2bed09454725"
      },
      "source": [
        "\n",
        "#python program to find circumference of a circle\n",
        "r=input(\"enter the value of r\")\n",
        "pi=3.14\n",
        "a=2*pi*float(r)\n",
        "print(a)"
      ],
      "execution_count": null,
      "outputs": [
        {
          "output_type": "stream",
          "text": [
            "enter the value of r6\n",
            "37.68\n"
          ],
          "name": "stdout"
        }
      ]
    },
    {
      "cell_type": "code",
      "metadata": {
        "id": "svJEo0sXWFGF",
        "colab_type": "code",
        "colab": {
          "base_uri": "https://localhost:8080/",
          "height": 52
        },
        "outputId": "8c0ba85f-37d5-4567-b31f-b8547573a66a"
      },
      "source": [
        "#python program to find perimeter of a square\n",
        "a=input(\"enter the value of a\")\n",
        "p=4*float (a)\n",
        "print(p)"
      ],
      "execution_count": null,
      "outputs": [
        {
          "output_type": "stream",
          "text": [
            "enter the value of a2\n",
            "8.0\n"
          ],
          "name": "stdout"
        }
      ]
    },
    {
      "cell_type": "code",
      "metadata": {
        "id": "0Ncc8e5nZpw6",
        "colab_type": "code",
        "colab": {
          "base_uri": "https://localhost:8080/",
          "height": 69
        },
        "outputId": "eb903436-05b8-407a-cc77-d87235897eb3"
      },
      "source": [
        "#python program to find swap two numbers\n",
        "x=int(input(\"enter the value of x\"))\n",
        "y=int(input(\"enter the value of y\"))\n",
        "temp,x=x,y\n",
        "y=temp\n",
        "print(x,y)"
      ],
      "execution_count": null,
      "outputs": [
        {
          "output_type": "stream",
          "text": [
            "enter the value of x2\n",
            "enter the value of y8\n",
            "8 2\n"
          ],
          "name": "stdout"
        }
      ]
    },
    {
      "cell_type": "code",
      "metadata": {
        "id": "no6aneFZaq4H",
        "colab_type": "code",
        "colab": {
          "base_uri": "https://localhost:8080/",
          "height": 69
        },
        "outputId": "14725dab-2743-46f3-9e1a-b6159aa9584e"
      },
      "source": [
        "#python program to find area of triangle\n",
        "a=input(\"enter the value of a\")\n",
        "b=input(\"enter the value of b\")\n",
        "c=(float(a)*float(b))/2\n",
        "print(c)"
      ],
      "execution_count": null,
      "outputs": [
        {
          "output_type": "stream",
          "text": [
            "enter the value of a6\n",
            "enter the value of b8\n",
            "24.0\n"
          ],
          "name": "stdout"
        }
      ]
    }
  ]
}