{
  "nbformat": 4,
  "nbformat_minor": 0,
  "metadata": {
    "colab": {
      "name": "assignment -3",
      "provenance": [],
      "collapsed_sections": [],
      "authorship_tag": "ABX9TyNmbphVC8qsuaazGhWM+VPg",
      "include_colab_link": true
    },
    "kernelspec": {
      "name": "python3",
      "display_name": "Python 3"
    }
  },
  "cells": [
    {
      "cell_type": "markdown",
      "metadata": {
        "id": "view-in-github",
        "colab_type": "text"
      },
      "source": [
        "<a href=\"https://colab.research.google.com/github/yennamvandhana/7026/blob/master/assignment_3.ipynb\" target=\"_parent\"><img src=\"https://colab.research.google.com/assets/colab-badge.svg\" alt=\"Open In Colab\"/></a>"
      ]
    },
    {
      "cell_type": "code",
      "metadata": {
        "id": "C6wvk9hW6Kdc",
        "colab_type": "code",
        "colab": {
          "base_uri": "https://localhost:8080/",
          "height": 52
        },
        "outputId": "a9e9bfd0-f768-4e00-91c5-85e42fac546e"
      },
      "source": [
        "#write a python programe to find area of a circle using math module\n",
        "import math\n",
        "r=float(input(\"enter the radius of the circle:\"))\n",
        "area=math.pi*r*r\n",
        "print(\"%.2f\"%area)"
      ],
      "execution_count": null,
      "outputs": [
        {
          "output_type": "stream",
          "text": [
            "enter the radius of the circle:2\n",
            "12.57\n"
          ],
          "name": "stdout"
        }
      ]
    },
    {
      "cell_type": "code",
      "metadata": {
        "id": "JxiNuCYM7g_n",
        "colab_type": "code",
        "colab": {
          "base_uri": "https://localhost:8080/",
          "height": 69
        },
        "outputId": "f0a42a51-be8d-40d1-c35c-6dc773385d5b"
      },
      "source": [
        "#write a program to find area of regular polygon\n",
        "from math import tan,pi\n",
        "n_sides=int(input(\"input number of sides:\"))\n",
        "s_length=float(input(\"input the length of a side:\"))\n",
        "p_area=n_sides*(s_length**2)/(4*tan(pi/n_sides))\n",
        "print(\"the area of the polygon is:\",p_area)"
      ],
      "execution_count": null,
      "outputs": [
        {
          "output_type": "stream",
          "text": [
            "input number of sides:2\n",
            "input the length of a side:4\n",
            "the area of the polygon is: 4.898587196589413e-16\n"
          ],
          "name": "stdout"
        }
      ]
    },
    {
      "cell_type": "code",
      "metadata": {
        "id": "gyhvCuV1_Jpn",
        "colab_type": "code",
        "colab": {
          "base_uri": "https://localhost:8080/",
          "height": 69
        },
        "outputId": "c6357c23-5feb-4440-e79f-842830b2c871"
      },
      "source": [
        "#write a program to find area of a segment of a circle formula using math module \n",
        "from math import sqrt\n",
        "diamstr=input(\"enter the length of the diameter:\")\n",
        "diameter =int(diamstr)\n",
        "chordstr=input(\"enter the chordlength:   \")\n",
        "chord=int(chordstr)\n",
        "radius=(diameter/2)\n",
        "s=sqrt(diameter**2+chord**2)\n",
        "h=(s/2-radius)\n",
        "i=(2/3*chord*h)\n",
        "j=(h**3/2*chord)\n",
        "area=(i+j)\n",
        "print(area)"
      ],
      "execution_count": null,
      "outputs": [
        {
          "output_type": "stream",
          "text": [
            "enter the length of the diameter:2\n",
            "enter the chordlength:   4\n",
            "7.073268913329409\n"
          ],
          "name": "stdout"
        }
      ]
    },
    {
      "cell_type": "code",
      "metadata": {
        "id": "51GfXySsCXh4",
        "colab_type": "code",
        "colab": {
          "base_uri": "https://localhost:8080/",
          "height": 52
        },
        "outputId": "ed579d83-d98e-4ba9-9264-07989cd6bd91"
      },
      "source": [
        "#TO generate random number from list\n",
        "import random\n",
        "print(\"a random from list is\")\n",
        "print(random.choice([50,2,4,6,20,40]))"
      ],
      "execution_count": null,
      "outputs": [
        {
          "output_type": "stream",
          "text": [
            "a random from list is\n",
            "40\n"
          ],
          "name": "stdout"
        }
      ]
    },
    {
      "cell_type": "code",
      "metadata": {
        "id": "GD1lI_SHOyHl",
        "colab_type": "code",
        "colab": {
          "base_uri": "https://localhost:8080/",
          "height": 35
        },
        "outputId": "c0d38479-9f0d-444c-ff33-0898e9a7081f"
      },
      "source": [
        "#generating random numbers between 1 to 10000 with different 50\n",
        "import random\n",
        "print(\"the random numbers between 1 to 10000\",random.randrange(1,10000,50))"
      ],
      "execution_count": null,
      "outputs": [
        {
          "output_type": "stream",
          "text": [
            "the random numbers between 1 to 10000 9201\n"
          ],
          "name": "stdout"
        }
      ]
    },
    {
      "cell_type": "code",
      "metadata": {
        "id": "U85ryUjQPrFB",
        "colab_type": "code",
        "colab": {
          "base_uri": "https://localhost:8080/",
          "height": 208
        },
        "outputId": "4f18c94f-5f3a-4935-a5ff-fce5e63471f5"
      },
      "source": [
        "#calculating using math module\n",
        "import math\n",
        "print(\"the value of sin(60) is\",math.sin(60))\n",
        "print(\"the value of cos(pi) is\",math.cos(math.pi))\n",
        "print(\"the value of tan(90) is\",math.tan(90))\n",
        "print(\"the angle of sin(0.8660254037844386) is\",math.degrees(math.asin(0.8660254037844)))\n",
        "print(\"the value of 5^8 is\",5**8)\n",
        "print(\"the value of squareroot of 400 is \",math.sqrt(400))\n",
        "print(\"the value of 5^e is\",5**math.e)\n",
        "print(\"the value of log(1024)base 2 is \",math.log(1024,(2)))\n",
        "print(\"the value of log(1024)base 10 is\",math.log(1024,(10)))\n",
        "print(\"the floor value of 23.56 is\",math.floor(23.56))\n",
        "print(\"the ceilng value of 23.56 is\",math.ceil(23.56))"
      ],
      "execution_count": null,
      "outputs": [
        {
          "output_type": "stream",
          "text": [
            "the value of sin(60) is -0.3048106211022167\n",
            "the value of cos(pi) is -1.0\n",
            "the value of tan(90) is -1.995200412208242\n",
            "the angle of sin(0.8660254037844386) is 59.999999999995566\n",
            "the value of 5^8 is 390625\n",
            "the value of squareroot of 400 is  20.0\n",
            "the value of 5^e is 79.43235916621322\n",
            "the value of log(1024)base 2 is  10.0\n",
            "the value of log(1024)base 10 is 3.0102999566398116\n",
            "the floor value of 23.56 is 23\n",
            "the ceilng value of 23.56 is 24\n"
          ],
          "name": "stdout"
        }
      ]
    }
  ]
}