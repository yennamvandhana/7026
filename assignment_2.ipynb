{
  "nbformat": 4,
  "nbformat_minor": 0,
  "metadata": {
    "colab": {
      "name": "assignment 2",
      "provenance": [],
      "authorship_tag": "ABX9TyORoxE4e7fP/faiMQdXX/yc",
      "include_colab_link": true
    },
    "kernelspec": {
      "name": "python3",
      "display_name": "Python 3"
    }
  },
  "cells": [
    {
      "cell_type": "markdown",
      "metadata": {
        "id": "view-in-github",
        "colab_type": "text"
      },
      "source": [
        "<a href=\"https://colab.research.google.com/github/yennamvandhana/7026/blob/master/assignment_2.ipynb\" target=\"_parent\"><img src=\"https://colab.research.google.com/assets/colab-badge.svg\" alt=\"Open In Colab\"/></a>"
      ]
    },
    {
      "cell_type": "code",
      "metadata": {
        "id": "ozBuN-CHMZjZ",
        "colab_type": "code",
        "colab": {
          "base_uri": "https://localhost:8080/",
          "height": 52
        },
        "outputId": "e7a8814b-4b38-4898-89e6-a5851166dd64"
      },
      "source": [
        "#program to check wheather a person is eligible for voting or not using if-else\n",
        "a=int(input(\"enter the value of a\"))\n",
        "if(a>18):\n",
        "  print(\"a is eligible for vote\")\n",
        "else:\n",
        "    print(\"a is not eligible for vote\")"
      ],
      "execution_count": 10,
      "outputs": [
        {
          "output_type": "stream",
          "text": [
            "enter the value of a8\n",
            "a is not eligible for vote\n"
          ],
          "name": "stdout"
        }
      ]
    },
    {
      "cell_type": "code",
      "metadata": {
        "id": "K6kqsTwVOb7a",
        "colab_type": "code",
        "colab": {
          "base_uri": "https://localhost:8080/",
          "height": 52
        },
        "outputId": "165ff11a-f952-4e3d-ab62-832135d25a11"
      },
      "source": [
        "#to check wheather a number is even or 0dd using if-else\n",
        "a=int(input(\"enter the value of a\"))\n",
        "if(a%2)==0:\n",
        "  print(\"{0}is even number\".format(a))\n",
        "else:\n",
        "  print(\"{0}is odd number\".format(a))\n",
        "\n"
      ],
      "execution_count": 12,
      "outputs": [
        {
          "output_type": "stream",
          "text": [
            "enter the value of a6\n",
            "6is even number\n"
          ],
          "name": "stdout"
        }
      ]
    },
    {
      "cell_type": "code",
      "metadata": {
        "id": "ZdH6CZD-PlXT",
        "colab_type": "code",
        "colab": {
          "base_uri": "https://localhost:8080/",
          "height": 69
        },
        "outputId": "ef33c7b8-d738-4239-b603-8a2a5452974f"
      },
      "source": [
        "#To print the string in reverse order by using string indexing\n",
        "a=str(input(\"Enter a string:\"))\n",
        "print(\"reverse of the string is :\")\n",
        "print(a[::-1])"
      ],
      "execution_count": 15,
      "outputs": [
        {
          "output_type": "stream",
          "text": [
            "Enter a string:vandhana\n",
            "reverse of the string is :\n",
            "anahdnav\n"
          ],
          "name": "stdout"
        }
      ]
    },
    {
      "cell_type": "code",
      "metadata": {
        "id": "nYLFAlKSQjPs",
        "colab_type": "code",
        "colab": {
          "base_uri": "https://localhost:8080/",
          "height": 52
        },
        "outputId": "fde9e967-66dd-4d89-bc8f-499ac2511086"
      },
      "source": [
        "# To check whether a number is positive or not using if-else\n",
        "n=int(input(\"enter number\"))\n",
        "if(n>0):\n",
        "  print(\"number is positive\")\n",
        "else:\n",
        "  print(\"number is negative\")"
      ],
      "execution_count": 17,
      "outputs": [
        {
          "output_type": "stream",
          "text": [
            "enter number17\n",
            "number is positive\n"
          ],
          "name": "stdout"
        }
      ]
    },
    {
      "cell_type": "code",
      "metadata": {
        "id": "L5j6rZHWRmX2",
        "colab_type": "code",
        "colab": {
          "base_uri": "https://localhost:8080/",
          "height": 87
        },
        "outputId": "d9be24c3-1ac1-4530-dad9-fb26a799ff81"
      },
      "source": [
        "#TO find the roots of a quadratic equation using elif\n",
        "import math\n",
        "a=float(input(\"enter the coefficient a\"))\n",
        "b=float(input(\"enter the coefficient b\"))\n",
        "c=float(input(\"enter the coefficient c\"))\n",
        "d=b*b-4*a*c;\n",
        "if d>0:\n",
        "  r1=(-b+math.sqrt(d))/(2*a)\n",
        "  r2=(-b-math.sqrt(d))/(2*a)\n",
        "  print(\"roots are real and unequal\",r1,\"and\",r1)\n",
        "elif d==0:\n",
        "    r1=-b/(2*a)\n",
        "    print(\"roots are real and same\",r1)\n",
        "else:\n",
        "  print(\"no real roots are there\")"
      ],
      "execution_count": 19,
      "outputs": [
        {
          "output_type": "stream",
          "text": [
            "enter the coefficient a2\n",
            "enter the coefficient b4\n",
            "enter the coefficient c6\n",
            "no real roots are there\n"
          ],
          "name": "stdout"
        }
      ]
    },
    {
      "cell_type": "code",
      "metadata": {
        "id": "PJ4dLn5cT4_Q",
        "colab_type": "code",
        "colab": {
          "base_uri": "https://localhost:8080/",
          "height": 52
        },
        "outputId": "a9758ea6-27a3-4de1-e27e-512e27d54c44"
      },
      "source": [
        "#To check wheather a number is positive or negative or zero using nested-if\n",
        "num=float(input(\"enter a number\"))\n",
        "if num>=0:\n",
        "  if num==0:\n",
        "    print(\"zero\")\n",
        "  else:\n",
        "      print(\"positive numbers\")\n",
        "else:\n",
        "  print(\"negative numbers\")\n",
        "  "
      ],
      "execution_count": 24,
      "outputs": [
        {
          "output_type": "stream",
          "text": [
            "enter a number34\n",
            "positive numbers\n"
          ],
          "name": "stdout"
        }
      ]
    },
    {
      "cell_type": "code",
      "metadata": {
        "id": "576yxzfqWGcz",
        "colab_type": "code",
        "colab": {
          "base_uri": "https://localhost:8080/",
          "height": 52
        },
        "outputId": "85abc773-3a1e-4a01-bf62-60c0425e853a"
      },
      "source": [
        "number=(\" \",\"one\",\"Two\",\"Three\",\"Four\",\"Five\")\n",
        "n=int(input(\"enter a number\"))\n",
        "print(number[n])"
      ],
      "execution_count": 28,
      "outputs": [
        {
          "output_type": "stream",
          "text": [
            "enter a number3\n",
            "Three\n"
          ],
          "name": "stdout"
        }
      ]
    },
    {
      "cell_type": "code",
      "metadata": {
        "id": "9tU5yftYXdXo",
        "colab_type": "code",
        "colab": {
          "base_uri": "https://localhost:8080/",
          "height": 52
        },
        "outputId": "c340bd0b-ca41-41bc-9010-ebe88d05d3ae"
      },
      "source": [
        "#to read a charater and print the given charater is vowel or constant\n",
        "ch=input(\"enter a character\")\n",
        "if(ch=='A' or ch=='a'or ch=='E'or ch=='e' or ch=='I' or ch=='i' or ch=='O' or ch=='o' or ch=='U' or ch=='u'):\n",
        "  print(ch,\"is a vowel\")\n",
        "else:\n",
        "  print(ch,\"is a constant\")\n"
      ],
      "execution_count": 29,
      "outputs": [
        {
          "output_type": "stream",
          "text": [
            "enter a characterv\n",
            "v is a constant\n"
          ],
          "name": "stdout"
        }
      ]
    }
  ]
}