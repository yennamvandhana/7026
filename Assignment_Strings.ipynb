{
  "nbformat": 4,
  "nbformat_minor": 0,
  "metadata": {
    "colab": {
      "name": "Assignment Strings.ipynb",
      "provenance": [],
      "authorship_tag": "ABX9TyMVDAZWbsuPJiX6wPMvdjNB",
      "include_colab_link": true
    },
    "kernelspec": {
      "name": "python3",
      "display_name": "Python 3"
    }
  },
  "cells": [
    {
      "cell_type": "markdown",
      "metadata": {
        "id": "view-in-github",
        "colab_type": "text"
      },
      "source": [
        "<a href=\"https://colab.research.google.com/github/yennamvandhana/7026/blob/master/Assignment_Strings.ipynb\" target=\"_parent\"><img src=\"https://colab.research.google.com/assets/colab-badge.svg\" alt=\"Open In Colab\"/></a>"
      ]
    },
    {
      "cell_type": "code",
      "metadata": {
        "id": "31JkKDTMLpmZ",
        "colab_type": "code",
        "colab": {
          "base_uri": "https://localhost:8080/",
          "height": 52
        },
        "outputId": "ef753750-f4f3-4749-8fed-406b27c925ae"
      },
      "source": [
        "#To calucate the length of the string\n",
        "str=input(\"enter a string\")\n",
        "print(\"length of the input string is :\",len(str))\n"
      ],
      "execution_count": null,
      "outputs": [
        {
          "output_type": "stream",
          "text": [
            "enter a stringdaddy\n",
            "length of the input string is : 5\n"
          ],
          "name": "stdout"
        }
      ]
    },
    {
      "cell_type": "code",
      "metadata": {
        "id": "V4UdmrEQMYjX",
        "colab_type": "code",
        "colab": {
          "base_uri": "https://localhost:8080/",
          "height": 35
        },
        "outputId": "4b8d9d70-294c-4073-ec35-a0bb0e35b6bb"
      },
      "source": [
        "#To count the number of characters in a string\n",
        "def char_frequency(str1):\n",
        "    dict={ }\n",
        "    for n in str1:\n",
        "        keys=dict.keys()\n",
        "        if n in keys:\n",
        "           dict[n]+=1\n",
        "        else:\n",
        "           dict[n]=1\n",
        "    return dict\n",
        "print(char_frequency('google.com'))"
      ],
      "execution_count": 18,
      "outputs": [
        {
          "output_type": "stream",
          "text": [
            "{'g': 2, 'o': 3, 'l': 1, 'e': 1, '.': 1, 'c': 1, 'm': 1}\n"
          ],
          "name": "stdout"
        }
      ]
    },
    {
      "cell_type": "code",
      "metadata": {
        "id": "rdUCwJmQitVO",
        "colab_type": "code",
        "colab": {
          "base_uri": "https://localhost:8080/",
          "height": 35
        },
        "outputId": "6790e5cd-3f5b-4f0d-e26b-61527e1a83c6"
      },
      "source": [
        "#single string from two given string ,seperated by a space and swap the first two charactera of each string\n",
        "def chars_mix_up(a,b):\n",
        "    new_a=b[:2]+a[2:]\n",
        "    new_b=a[:2]+b[2:]\n",
        "    return new_a+' '+new_b\n",
        "print(chars_mix_up('abc','xyz'))"
      ],
      "execution_count": 21,
      "outputs": [
        {
          "output_type": "stream",
          "text": [
            "xyc abz\n"
          ],
          "name": "stdout"
        }
      ]
    },
    {
      "cell_type": "code",
      "metadata": {
        "id": "wsqJkWJmkSBP",
        "colab_type": "code",
        "colab": {
          "base_uri": "https://localhost:8080/",
          "height": 69
        },
        "outputId": "f5278830-66d3-41ee-f903-c2980ddfab17"
      },
      "source": [
        "#upper and lower case\n",
        "user_input=input(\"what's your favourite languages?\")\n",
        "print(\"my favourite language is\",user_input.upper())\n",
        "print(\"my favourite language is\",user_input.lower())"
      ],
      "execution_count": 24,
      "outputs": [
        {
          "output_type": "stream",
          "text": [
            "what's your favourite languages?telugu\n",
            "my favourite language is TELUGU\n",
            "my favourite language is telugu\n"
          ],
          "name": "stdout"
        }
      ]
    },
    {
      "cell_type": "code",
      "metadata": {
        "id": "DdYcuzkSlaTw",
        "colab_type": "code",
        "colab": {
          "base_uri": "https://localhost:8080/",
          "height": 69
        },
        "outputId": "67607503-5562-4341-fa41-57eb9770e336"
      },
      "source": [
        "#to remove a newline \n",
        "str1='python Exercise\\n'\n",
        "print(str1)\n",
        "print(str1.rstrip())"
      ],
      "execution_count": 26,
      "outputs": [
        {
          "output_type": "stream",
          "text": [
            "python Exercise\n",
            "\n",
            "python Exercise\n"
          ],
          "name": "stdout"
        }
      ]
    },
    {
      "cell_type": "code",
      "metadata": {
        "id": "kfkWvLR1mY0C",
        "colab_type": "code",
        "colab": {
          "base_uri": "https://localhost:8080/",
          "height": 69
        },
        "outputId": "f1062282-8ddf-4407-f2f4-7b133ea99987"
      },
      "source": [
        "# substring in a string\n",
        "str1='the quick brown cat jumps over the lazy dog'\n",
        "print()\n",
        "print(str1.count(\"cat\"))\n",
        "print()"
      ],
      "execution_count": 32,
      "outputs": [
        {
          "output_type": "stream",
          "text": [
            "\n",
            "1\n",
            "\n"
          ],
          "name": "stdout"
        }
      ]
    },
    {
      "cell_type": "code",
      "metadata": {
        "id": "ks95kWQpnhwt",
        "colab_type": "code",
        "colab": {
          "base_uri": "https://localhost:8080/",
          "height": 35
        },
        "outputId": "86ad8c82-5ac4-4ece-c2d2-3e7fc35d519a"
      },
      "source": [
        "#to convert a string in a list\n",
        "str1='Apple,Mango,Banana'\n",
        "print(f'list of iteams={str1.split(\" ,\")}')"
      ],
      "execution_count": 45,
      "outputs": [
        {
          "output_type": "stream",
          "text": [
            "list of iteams=['Apple,Mango,Banana']\n"
          ],
          "name": "stdout"
        }
      ]
    },
    {
      "cell_type": "code",
      "metadata": {
        "id": "jkm_HuBmpuOU",
        "colab_type": "code",
        "colab": {
          "base_uri": "https://localhost:8080/",
          "height": 35
        },
        "outputId": "febafc7f-4f2f-4708-eb08-7f7ca59ac1aa"
      },
      "source": [
        "#deletion of a character\n",
        "a=[1,2,3,4,5,6]\n",
        "del a[1:2]\n",
        "print(a)"
      ],
      "execution_count": 44,
      "outputs": [
        {
          "output_type": "stream",
          "text": [
            "[1, 3, 4, 5, 6]\n"
          ],
          "name": "stdout"
        }
      ]
    },
    {
      "cell_type": "code",
      "metadata": {
        "id": "UHzz-wtwrc_w",
        "colab_type": "code",
        "colab": {
          "base_uri": "https://localhost:8080/",
          "height": 121
        },
        "outputId": "6337650b-3769-4a64-a36c-2b6340eb35a5"
      },
      "source": [
        "#character of a string entered by user in a newline using loop\n",
        "x=input(\"enter the string :\")\n",
        "for i in x:\n",
        "  print(i)"
      ],
      "execution_count": 47,
      "outputs": [
        {
          "output_type": "stream",
          "text": [
            "enter the string :laddu\n",
            "l\n",
            "a\n",
            "d\n",
            "d\n",
            "u\n"
          ],
          "name": "stdout"
        }
      ]
    },
    {
      "cell_type": "code",
      "metadata": {
        "id": "8tJnECNFsSu0",
        "colab_type": "code",
        "colab": {
          "base_uri": "https://localhost:8080/",
          "height": 35
        },
        "outputId": "ebab4c3b-4929-40a5-f38a-30d8c9f643be"
      },
      "source": [
        "#length of a string refrigetor without using len function\n",
        "a=\"refrigerator\"\n",
        "count=0\n",
        "for i in a:\n",
        "    count=count+1\n",
        "print(count)"
      ],
      "execution_count": 48,
      "outputs": [
        {
          "output_type": "stream",
          "text": [
            "12\n"
          ],
          "name": "stdout"
        }
      ]
    }
  ]
}