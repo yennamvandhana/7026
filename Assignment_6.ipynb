{
  "nbformat": 4,
  "nbformat_minor": 0,
  "metadata": {
    "colab": {
      "name": "Assignment-6",
      "provenance": [],
      "authorship_tag": "ABX9TyN635Th9KPi8WTsnQZiQDaI",
      "include_colab_link": true
    },
    "kernelspec": {
      "name": "python3",
      "display_name": "Python 3"
    }
  },
  "cells": [
    {
      "cell_type": "markdown",
      "metadata": {
        "id": "view-in-github",
        "colab_type": "text"
      },
      "source": [
        "<a href=\"https://colab.research.google.com/github/yennamvandhana/7026/blob/master/Assignment_6.ipynb\" target=\"_parent\"><img src=\"https://colab.research.google.com/assets/colab-badge.svg\" alt=\"Open In Colab\"/></a>"
      ]
    },
    {
      "cell_type": "code",
      "metadata": {
        "id": "8XOBy1h6gW7X",
        "colab_type": "code",
        "colab": {
          "base_uri": "https://localhost:8080/",
          "height": 1000
        },
        "outputId": "4e4a262f-4b35-47e4-a40f-cbae71492ede"
      },
      "source": [
        "#to print the integers from 1 to 100\n",
        "def fizz_buzz(num):\n",
        "    if num%3==0 and num%5==0:\n",
        "      return  'FizzBuzz'\n",
        "    elif num%3==0:\n",
        "      return 'Fizz'\n",
        "    elif num%5==0:\n",
        "      return 'Buzz'\n",
        "    else:\n",
        "      return num\n",
        "for n in range(1,100):\n",
        "    print(fizz_buzz(n))"
      ],
      "execution_count": 2,
      "outputs": [
        {
          "output_type": "stream",
          "text": [
            "1\n",
            "2\n",
            "Fizz\n",
            "4\n",
            "Buzz\n",
            "Fizz\n",
            "7\n",
            "8\n",
            "Fizz\n",
            "Buzz\n",
            "11\n",
            "Fizz\n",
            "13\n",
            "14\n",
            "FizzBuzz\n",
            "16\n",
            "17\n",
            "Fizz\n",
            "19\n",
            "Buzz\n",
            "Fizz\n",
            "22\n",
            "23\n",
            "Fizz\n",
            "Buzz\n",
            "26\n",
            "Fizz\n",
            "28\n",
            "29\n",
            "FizzBuzz\n",
            "31\n",
            "32\n",
            "Fizz\n",
            "34\n",
            "Buzz\n",
            "Fizz\n",
            "37\n",
            "38\n",
            "Fizz\n",
            "Buzz\n",
            "41\n",
            "Fizz\n",
            "43\n",
            "44\n",
            "FizzBuzz\n",
            "46\n",
            "47\n",
            "Fizz\n",
            "49\n",
            "Buzz\n",
            "Fizz\n",
            "52\n",
            "53\n",
            "Fizz\n",
            "Buzz\n",
            "56\n",
            "Fizz\n",
            "58\n",
            "59\n",
            "FizzBuzz\n",
            "61\n",
            "62\n",
            "Fizz\n",
            "64\n",
            "Buzz\n",
            "Fizz\n",
            "67\n",
            "68\n",
            "Fizz\n",
            "Buzz\n",
            "71\n",
            "Fizz\n",
            "73\n",
            "74\n",
            "FizzBuzz\n",
            "76\n",
            "77\n",
            "Fizz\n",
            "79\n",
            "Buzz\n",
            "Fizz\n",
            "82\n",
            "83\n",
            "Fizz\n",
            "Buzz\n",
            "86\n",
            "Fizz\n",
            "88\n",
            "89\n",
            "FizzBuzz\n",
            "91\n",
            "92\n",
            "Fizz\n",
            "94\n",
            "Buzz\n",
            "Fizz\n",
            "97\n",
            "98\n",
            "Fizz\n"
          ],
          "name": "stdout"
        }
      ]
    },
    {
      "cell_type": "code",
      "metadata": {
        "id": "x5K5lajYinya",
        "colab_type": "code",
        "colab": {
          "base_uri": "https://localhost:8080/",
          "height": 52
        },
        "outputId": "05f41c3d-435b-4a48-ad22-d0db964db4c0"
      },
      "source": [
        "#to remove consecutive duplicates from list\n",
        "from itertools import groupby\n",
        "test_list=[1,4,4,4,5,6,7,4,3,3,9]\n",
        "print(\"the original list is:\"+str(test_list))\n",
        "res=[i[0] for i in groupby(test_list)]\n",
        "print(\"the list after removing consecutive duplicates:\"+str(res))"
      ],
      "execution_count": 7,
      "outputs": [
        {
          "output_type": "stream",
          "text": [
            "the original list is:[1, 4, 4, 4, 5, 6, 7, 4, 3, 3, 9]\n",
            "the list after removing consecutive duplicates:[1, 4, 5, 6, 7, 4, 3, 9]\n"
          ],
          "name": "stdout"
        }
      ]
    },
    {
      "cell_type": "code",
      "metadata": {
        "id": "M8Ag0qfYljG0",
        "colab_type": "code",
        "colab": {
          "base_uri": "https://localhost:8080/",
          "height": 35
        },
        "outputId": "6e2e7e84-6cf8-4997-a871-3a75191011c7"
      },
      "source": [
        "#to find unique elements from a list\n",
        "def unique_list(l):\n",
        "  x=[] \n",
        "  for a in l:\n",
        "     if a not in x:\n",
        "        x.append(a)\n",
        "  return x\n",
        "print(unique_list([1,2,2,3,3,4,4,5]))"
      ],
      "execution_count": 12,
      "outputs": [
        {
          "output_type": "stream",
          "text": [
            "[1, 2, 3, 4, 5]\n"
          ],
          "name": "stdout"
        }
      ]
    },
    {
      "cell_type": "code",
      "metadata": {
        "id": "K7IjuwGBm9bc",
        "colab_type": "code",
        "colab": {
          "base_uri": "https://localhost:8080/",
          "height": 35
        },
        "outputId": "63ac9de6-d20e-4ec1-87eb-917ad7422502"
      },
      "source": [
        "#to check wheather a number is in a given range\n",
        "def test_range(n):\n",
        "     if n in range(3,9):\n",
        "       print(\"%s is in the range\"%str(n))\n",
        "     else:\n",
        "       print(\"the number is outside the given range\")\n",
        "test_range(12)"
      ],
      "execution_count": 14,
      "outputs": [
        {
          "output_type": "stream",
          "text": [
            "the number is outside the given range\n"
          ],
          "name": "stdout"
        }
      ]
    },
    {
      "cell_type": "code",
      "metadata": {
        "id": "pTo4Mi6Jn5Sp",
        "colab_type": "code",
        "colab": {
          "base_uri": "https://localhost:8080/",
          "height": 607
        },
        "outputId": "a20963de-f12f-4afc-dbe1-421cd5e3c34b"
      },
      "source": [
        "#number of uppercase letters and lowercase letters\n",
        "def count_upper_lower(string):\n",
        "    lowercase_letter_count=0\n",
        "    uppercase_letter_count=0\n",
        "    for letter in string:\n",
        "         if letter.isupper( ):\n",
        "            uppercase_letter_count+=1\n",
        "         elif letter.islower( ):\n",
        "              lowercase_letter_count+=1\n",
        "              print(uppercase_letter_count,lowercase_letter_count)\n",
        "count_upper_lower(\"Hello Mr.rogers,how are you this fine Tuesday\")"
      ],
      "execution_count": 21,
      "outputs": [
        {
          "output_type": "stream",
          "text": [
            "1 1\n",
            "1 2\n",
            "1 3\n",
            "1 4\n",
            "2 5\n",
            "2 6\n",
            "2 7\n",
            "2 8\n",
            "2 9\n",
            "2 10\n",
            "2 11\n",
            "2 12\n",
            "2 13\n",
            "2 14\n",
            "2 15\n",
            "2 16\n",
            "2 17\n",
            "2 18\n",
            "2 19\n",
            "2 20\n",
            "2 21\n",
            "2 22\n",
            "2 23\n",
            "2 24\n",
            "2 25\n",
            "2 26\n",
            "2 27\n",
            "2 28\n",
            "3 29\n",
            "3 30\n",
            "3 31\n",
            "3 32\n",
            "3 33\n",
            "3 34\n"
          ],
          "name": "stdout"
        }
      ]
    }
  ]
}