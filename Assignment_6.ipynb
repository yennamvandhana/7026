{
  "nbformat": 4,
  "nbformat_minor": 0,
  "metadata": {
    "colab": {
      "name": "Assignment-6",
      "provenance": [],
      "authorship_tag": "ABX9TyMA0t/oBA/z6gEnv/v3Pot2",
      "include_colab_link": true
    },
    "kernelspec": {
      "name": "python3",
      "display_name": "Python 3"
    }
  },
  "cells": [
    {
      "cell_type": "markdown",
      "metadata": {
        "id": "view-in-github",
        "colab_type": "text"
      },
      "source": [
        "<a href=\"https://colab.research.google.com/github/yennamvandhana/7026/blob/master/Assignment_6.ipynb\" target=\"_parent\"><img src=\"https://colab.research.google.com/assets/colab-badge.svg\" alt=\"Open In Colab\"/></a>"
      ]
    },
    {
      "cell_type": "code",
      "metadata": {
        "id": "oYkK0bGnskmu",
        "colab_type": "code",
        "colab": {
          "base_uri": "https://localhost:8080/",
          "height": 52
        },
        "outputId": "a1784967-bdf2-496c-c8a4-d82eea846e91"
      },
      "source": [
        "#what is dictionary in python?explain with example\n",
        "mydict={'StuName':'Nandu','StuAge':'18','StuCity':'Anantapur'}\n",
        "print(\"Student Age is:\",mydict['StuAge'])\n",
        "print(\"Student City is:\",mydict['StuCity'])"
      ],
      "execution_count": 6,
      "outputs": [
        {
          "output_type": "stream",
          "text": [
            "Student Age is: 18\n",
            "Student City is: Anantapur\n"
          ],
          "name": "stdout"
        }
      ]
    },
    {
      "cell_type": "code",
      "metadata": {
        "id": "-HLOejCGuZ67",
        "colab_type": "code",
        "colab": {
          "base_uri": "https://localhost:8080/",
          "height": 35
        },
        "outputId": "72b64c19-95b1-439d-f1f6-8760b58ccfa2"
      },
      "source": [
        "#to sum all the iteams in a list\n",
        "def sum_list(iteams):\n",
        "    sum_numbers=0\n",
        "    for x in iteams:\n",
        "        sum_numbers +=x\n",
        "    return sum_numbers\n",
        "print(sum_list([4,-20,6]))"
      ],
      "execution_count": 8,
      "outputs": [
        {
          "output_type": "stream",
          "text": [
            "-10\n"
          ],
          "name": "stdout"
        }
      ]
    },
    {
      "cell_type": "code",
      "metadata": {
        "id": "2YVF7SOgvNtL",
        "colab_type": "code",
        "colab": {
          "base_uri": "https://localhost:8080/",
          "height": 35
        },
        "outputId": "b172df0e-b224-451c-930c-f6fa46f659f5"
      },
      "source": [
        "#create a list of empty dictionaries\n",
        "n=4\n",
        "l=[{ } for _ in range(n)]\n",
        "print(l)"
      ],
      "execution_count": 11,
      "outputs": [
        {
          "output_type": "stream",
          "text": [
            "[{}, {}, {}, {}]\n"
          ],
          "name": "stdout"
        }
      ]
    },
    {
      "cell_type": "code",
      "metadata": {
        "id": "umpl_xYLvzox",
        "colab_type": "code",
        "colab": {
          "base_uri": "https://localhost:8080/",
          "height": 35
        },
        "outputId": "a125349b-c491-4816-fdeb-d8f2466d1c83"
      },
      "source": [
        "#to access dictionary keys elements by index\n",
        "num={'physics':40,'math':60,'chemistry':45}\n",
        "print(list(num)[2])\n"
      ],
      "execution_count": 13,
      "outputs": [
        {
          "output_type": "stream",
          "text": [
            "chemistry\n"
          ],
          "name": "stdout"
        }
      ]
    },
    {
      "cell_type": "code",
      "metadata": {
        "id": "YoVFFVuqwqQa",
        "colab_type": "code",
        "colab": {
          "base_uri": "https://localhost:8080/",
          "height": 69
        },
        "outputId": "b29cf1fd-d8f4-4b7a-8189-f9b910379d55"
      },
      "source": [
        "#to iterate over dictionaries using for loop\n",
        "d={'blue':4,'Green':2,'Blue':5}\n",
        "for color_key,value in d.items():\n",
        "    print(color_key,'corresponds to',d[color_key])"
      ],
      "execution_count": 23,
      "outputs": [
        {
          "output_type": "stream",
          "text": [
            "blue corresponds to 4\n",
            "Green corresponds to 2\n",
            "Blue corresponds to 5\n"
          ],
          "name": "stdout"
        }
      ]
    },
    {
      "cell_type": "code",
      "metadata": {
        "id": "6WBSyMdjzvCt",
        "colab_type": "code",
        "colab": {
          "base_uri": "https://localhost:8080/",
          "height": 35
        },
        "outputId": "a94fb81f-3942-4a9e-a896-08e08f87d4c4"
      },
      "source": [
        "#to sum all the items in a dictionary\n",
        "my_dict={'num1':20,'num2':-25,'num3':60}\n",
        "print(sum(my_dict.values()))"
      ],
      "execution_count": 26,
      "outputs": [
        {
          "output_type": "stream",
          "text": [
            "55\n"
          ],
          "name": "stdout"
        }
      ]
    },
    {
      "cell_type": "code",
      "metadata": {
        "id": "4ulQ9cnr0V_7",
        "colab_type": "code",
        "colab": {
          "base_uri": "https://localhost:8080/",
          "height": 35
        },
        "outputId": "662e7298-5e67-47cc-8d0c-b37e9e5b0015"
      },
      "source": [
        "#concatenate dictionaries to create a new one\n",
        "dic1={1:10,2:20}\n",
        "dic2={3:30,4:40}\n",
        "dic3={5:50,6:60}\n",
        "dic4={ }\n",
        "for d in (dic1,dic2,dic3):dic4.update(d)\n",
        "print(dic4)"
      ],
      "execution_count": 28,
      "outputs": [
        {
          "output_type": "stream",
          "text": [
            "{1: 10, 2: 20, 3: 30, 4: 40, 5: 50, 6: 60}\n"
          ],
          "name": "stdout"
        }
      ]
    },
    {
      "cell_type": "code",
      "metadata": {
        "id": "3cRLTksZ1c-_",
        "colab_type": "code",
        "colab": {
          "base_uri": "https://localhost:8080/",
          "height": 35
        },
        "outputId": "cf45ebb6-2b1e-479c-c236-69aee39a2977"
      },
      "source": [
        "#expected result:{1:10,2:20,3:30,4:40,5:50,6:60}\n",
        "dic1={1:10,2:20}\n",
        "dic2={3:30,4:40}\n",
        "dic3={5:50,6:60}\n",
        "dic4={ }\n",
        "for d in (dic1,dic2,dic3):dic4.update(d)\n",
        "print(dic4)"
      ],
      "execution_count": 30,
      "outputs": [
        {
          "output_type": "stream",
          "text": [
            "{1: 10, 2: 20, 3: 30, 4: 40, 5: 50, 6: 60}\n"
          ],
          "name": "stdout"
        }
      ]
    },
    {
      "cell_type": "code",
      "metadata": {
        "id": "1M_bNp3b2T6q",
        "colab_type": "code",
        "colab": {
          "base_uri": "https://localhost:8080/",
          "height": 35
        },
        "outputId": "741256d7-72b8-4657-ca63-d34456b643de"
      },
      "source": [
        "#to create a tuple\n",
        "x=()\n",
        "print(x)"
      ],
      "execution_count": 32,
      "outputs": [
        {
          "output_type": "stream",
          "text": [
            "()\n"
          ],
          "name": "stdout"
        }
      ]
    },
    {
      "cell_type": "code",
      "metadata": {
        "id": "bTAbx5Yy2fjr",
        "colab_type": "code",
        "colab": {
          "base_uri": "https://localhost:8080/",
          "height": 35
        },
        "outputId": "94514ab4-694b-4f4b-d7e1-cbd3027bd755"
      },
      "source": [
        "#to create a tuple with different data tyoes\n",
        "tuplex=(\"tuple\",True,4.3,1)\n",
        "print(tuplex)"
      ],
      "execution_count": 34,
      "outputs": [
        {
          "output_type": "stream",
          "text": [
            "('tuple', True, 4.3, 1)\n"
          ],
          "name": "stdout"
        }
      ]
    },
    {
      "cell_type": "code",
      "metadata": {
        "id": "jMba4cMC237w",
        "colab_type": "code",
        "colab": {
          "base_uri": "https://localhost:8080/",
          "height": 35
        },
        "outputId": "f10ce6ba-466f-472b-abe8-baa3a58f8487"
      },
      "source": [
        "#to convert a tuple to a string\n",
        "tup=('v','i','n','a','y')\n",
        "str=''.join(tup)\n",
        "print(str)"
      ],
      "execution_count": 37,
      "outputs": [
        {
          "output_type": "stream",
          "text": [
            "vinay\n"
          ],
          "name": "stdout"
        }
      ]
    },
    {
      "cell_type": "code",
      "metadata": {
        "id": "k10W_WLQ3xwy",
        "colab_type": "code",
        "colab": {
          "base_uri": "https://localhost:8080/",
          "height": 35
        },
        "outputId": "6e388ad7-fe97-4128-cce5-8ca5fc60842b"
      },
      "source": [
        "#to slice a tuple\n",
        "tuplex=('v','i','n','a','y')\n",
        "_slice=tuplex[2:]\n",
        "print(_slice)"
      ],
      "execution_count": 39,
      "outputs": [
        {
          "output_type": "stream",
          "text": [
            "('n', 'a', 'y')\n"
          ],
          "name": "stdout"
        }
      ]
    },
    {
      "cell_type": "code",
      "metadata": {
        "id": "P7hmHOWk4Pov",
        "colab_type": "code",
        "colab": {
          "base_uri": "https://localhost:8080/",
          "height": 52
        },
        "outputId": "ca07bbb3-90cc-459f-feed-de7680226868"
      },
      "source": [
        "#length of a tuple\n",
        "tuplex=tuple(\"chinnu\")\n",
        "print(tuplex)\n",
        "print(len(tuplex))"
      ],
      "execution_count": 41,
      "outputs": [
        {
          "output_type": "stream",
          "text": [
            "('c', 'h', 'i', 'n', 'n', 'u')\n",
            "6\n"
          ],
          "name": "stdout"
        }
      ]
    },
    {
      "cell_type": "code",
      "metadata": {
        "id": "0ykHUwHy4xJf",
        "colab_type": "code",
        "colab": {
          "base_uri": "https://localhost:8080/",
          "height": 35
        },
        "outputId": "c41a5570-b9a2-4822-e845-f4bd74151bb2"
      },
      "source": [
        "#convert a tuple to dictionary\n",
        "tuplex=((1,\"N\"),(4,\"a\"))\n",
        "print(dict((y,x) for x,y in tuplex))"
      ],
      "execution_count": 43,
      "outputs": [
        {
          "output_type": "stream",
          "text": [
            "{'N': 1, 'a': 4}\n"
          ],
          "name": "stdout"
        }
      ]
    },
    {
      "cell_type": "code",
      "metadata": {
        "id": "0h6aVAiw5TOb",
        "colab_type": "code",
        "colab": {
          "base_uri": "https://localhost:8080/",
          "height": 35
        },
        "outputId": "9a8a89ad-3091-4442-a925-dd82b29ecaf6"
      },
      "source": [
        "#to reverse a tuple\n",
        "x=(5,10,15,20)\n",
        "y=reversed(x)\n",
        "print(tuple(y))"
      ],
      "execution_count": 45,
      "outputs": [
        {
          "output_type": "stream",
          "text": [
            "(20, 15, 10, 5)\n"
          ],
          "name": "stdout"
        }
      ]
    },
    {
      "cell_type": "code",
      "metadata": {
        "id": "zGU-CJS55kh9",
        "colab_type": "code",
        "colab": {
          "base_uri": "https://localhost:8080/",
          "height": 35
        },
        "outputId": "4e4fff4b-15eb-49f5-8796-3c27ba93b997"
      },
      "source": [
        "#convert a list of tuples in to a dictionary\n",
        "l=[(\"V\",1),(\"A\",2),(\"N\",3),(\"D\",4),(\"U\",5)]\n",
        "D={ }\n",
        "for A,B in l:\n",
        "     D.setdefault(A,[]).append(B)\n",
        "print(D)"
      ],
      "execution_count": 48,
      "outputs": [
        {
          "output_type": "stream",
          "text": [
            "{'V': [1], 'A': [2], 'N': [3], 'D': [4], 'U': [5]}\n"
          ],
          "name": "stdout"
        }
      ]
    },
    {
      "cell_type": "code",
      "metadata": {
        "id": "91KZEDdm60JI",
        "colab_type": "code",
        "colab": {
          "base_uri": "https://localhost:8080/",
          "height": 35
        },
        "outputId": "f677fb0e-e24a-4570-9baa-569c3c2601ad"
      },
      "source": [
        "#convert list to tuple\n",
        "listx=[5,4,6,8,3]\n",
        "tuplex=tuple(listx)\n",
        "print(tuplex)"
      ],
      "execution_count": 49,
      "outputs": [
        {
          "output_type": "stream",
          "text": [
            "(5, 4, 6, 8, 3)\n"
          ],
          "name": "stdout"
        }
      ]
    }
  ]
}