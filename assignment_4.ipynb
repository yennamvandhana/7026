{
  "nbformat": 4,
  "nbformat_minor": 0,
  "metadata": {
    "colab": {
      "name": "assignment -4.ipynb",
      "provenance": [],
      "authorship_tag": "ABX9TyORqpwCUaExq0UClir3vFz/",
      "include_colab_link": true
    },
    "kernelspec": {
      "name": "python3",
      "display_name": "Python 3"
    }
  },
  "cells": [
    {
      "cell_type": "markdown",
      "metadata": {
        "id": "view-in-github",
        "colab_type": "text"
      },
      "source": [
        "<a href=\"https://colab.research.google.com/github/yennamvandhana/7026/blob/master/assignment_4.ipynb\" target=\"_parent\"><img src=\"https://colab.research.google.com/assets/colab-badge.svg\" alt=\"Open In Colab\"/></a>"
      ]
    },
    {
      "cell_type": "code",
      "metadata": {
        "id": "11qmDFD1fHcT",
        "colab_type": "code",
        "colab": {
          "base_uri": "https://localhost:8080/",
          "height": 35
        },
        "outputId": "64bebf5a-65f9-426d-d340-065bde0dbd27"
      },
      "source": [
        "#First and Last digit\n",
        "def firstDigit(n):\n",
        "  while n>=10:\n",
        "    n=n/10;\n",
        "  return int(n)\n",
        "def lastDigit(n):\n",
        "  return(n%10)\n",
        "n=98562;\n",
        "print(firstDigit (n),end=\" \")\n",
        "print(lastDigit (n))"
      ],
      "execution_count": 11,
      "outputs": [
        {
          "output_type": "stream",
          "text": [
            "9 2\n"
          ],
          "name": "stdout"
        }
      ]
    },
    {
      "cell_type": "code",
      "metadata": {
        "id": "m0whe1zCi7Nq",
        "colab_type": "code",
        "colab": {
          "base_uri": "https://localhost:8080/",
          "height": 35
        },
        "outputId": "942c3eb1-b5e4-44d9-d9c9-4eac053140ad"
      },
      "source": [
        "#Fibonacci numbers\n",
        "def printFibonacciNumbers(n):\n",
        "  f1=0\n",
        "  f2=1\n",
        "  if(n<1):\n",
        "    return\n",
        "  for x in range(0,n):\n",
        "    print(f2,end=\" \")\n",
        "    next=f1+f2\n",
        "    f1=f2\n",
        "    f2=next\n",
        "printFibonacciNumbers(7)"
      ],
      "execution_count": 17,
      "outputs": [
        {
          "output_type": "stream",
          "text": [
            "1 1 2 3 5 8 13 "
          ],
          "name": "stdout"
        }
      ]
    },
    {
      "cell_type": "code",
      "metadata": {
        "id": "cVBPU7ZolDLq",
        "colab_type": "code",
        "colab": {
          "base_uri": "https://localhost:8080/",
          "height": 208
        },
        "outputId": "17c84cb7-a59c-40ab-9a6a-ff811487996b"
      },
      "source": [
        "#Marks of students\n",
        "n=int(input(\"Enter number of studens\"))\n",
        "if(n>=0):\n",
        "      student=[\"members\"]\n",
        "      for i in range(0,n):\n",
        "           name=input('Enter the name of student')\n",
        "           print(name)\n",
        "           mark=int(input('Enter the marks out of 100'))\n",
        "           print(mark)\n",
        "           if(mark<40):\n",
        "                student.append(name)\n",
        "                print(\"This student has failed\")\n",
        "           else:\n",
        "             print(\"You have passed\")\n",
        "      for i in range(1,len(student)):\n",
        "           print(student[i])\n",
        "else:\n",
        "    print(\"Invalid Input\")"
      ],
      "execution_count": 24,
      "outputs": [
        {
          "output_type": "stream",
          "text": [
            "Enter number of studens2\n",
            "Enter the name of studentvinay\n",
            "vinay\n",
            "Enter the marks out of 10070\n",
            "70\n",
            "You have passed\n",
            "Enter the name of studentvandhana\n",
            "vandhana\n",
            "Enter the marks out of 10060\n",
            "60\n",
            "You have passed\n"
          ],
          "name": "stdout"
        }
      ]
    },
    {
      "cell_type": "code",
      "metadata": {
        "id": "-CYmFOVHn83R",
        "colab_type": "code",
        "colab": {
          "base_uri": "https://localhost:8080/",
          "height": 191
        },
        "outputId": "c28ca632-d2ea-4396-d110-2c517ae1bc0d"
      },
      "source": [
        "#Multiplicati0n table\n",
        "num=5\n",
        "for i in range(1,11):\n",
        "  print(num,'x',i,'=',num*i)"
      ],
      "execution_count": 27,
      "outputs": [
        {
          "output_type": "stream",
          "text": [
            "5 x 1 = 5\n",
            "5 x 2 = 10\n",
            "5 x 3 = 15\n",
            "5 x 4 = 20\n",
            "5 x 5 = 25\n",
            "5 x 6 = 30\n",
            "5 x 7 = 35\n",
            "5 x 8 = 40\n",
            "5 x 9 = 45\n",
            "5 x 10 = 50\n"
          ],
          "name": "stdout"
        }
      ]
    },
    {
      "cell_type": "code",
      "metadata": {
        "id": "aJmm1W0yom1h",
        "colab_type": "code",
        "colab": {
          "base_uri": "https://localhost:8080/",
          "height": 69
        },
        "outputId": "998ac577-21fc-4171-dd6f-6b86da9bd1bb"
      },
      "source": [
        "#Taking number\n",
        "sum=0\n",
        "c=0\n",
        "num=int(input(\"Enter the number\"))\n",
        "while num!=-1:\n",
        "  c+=1\n",
        "  sum+=num\n",
        "  num=int(input())\n",
        "print(sum/c)"
      ],
      "execution_count": 29,
      "outputs": [
        {
          "output_type": "stream",
          "text": [
            "Enter the number4\n",
            "-1\n",
            "4.0\n"
          ],
          "name": "stdout"
        }
      ]
    }
  ]
}